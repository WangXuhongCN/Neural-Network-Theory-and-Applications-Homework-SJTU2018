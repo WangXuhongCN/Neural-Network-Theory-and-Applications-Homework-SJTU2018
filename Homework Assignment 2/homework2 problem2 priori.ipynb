{
 "cells": [
  {
   "cell_type": "code",
   "execution_count": 1,
   "metadata": {
    "collapsed": true
   },
   "outputs": [],
   "source": [
    "import numpy as np\n",
    "import matplotlib.pyplot as plt\n",
    "import os\n",
    "import random\n",
    "from numpy import random\n",
    "from sklearn import svm\n",
    "from __future__ import print_function\n",
    "from sklearn.metrics import classification_report\n",
    "from sklearn.metrics import accuracy_score\n",
    "from sklearn.multiclass import OneVsRestClassifier\n",
    "from random import choice\n",
    "from sklearn.metrics import roc_curve, auc\n",
    "from sklearn.model_selection import validation_curve\n",
    "from pylab import *  \n",
    "from matplotlib.ticker import MultipleLocator, FormatStrFormatter  \n",
    "from collections import Counter\n",
    "from sklearn.calibration import CalibratedClassifierCV\n",
    "%matplotlib inline"
   ]
  },
  {
   "cell_type": "code",
   "execution_count": 67,
   "metadata": {
    "collapsed": false
   },
   "outputs": [],
   "source": [
    "# This is a bit of magic to make matplotlib figures appear inline in the notebook\n",
    "# rather than in a new window.\n",
    "%matplotlib inline\n",
    "plt.rcParams['figure.figsize'] = (16.0, 9.0) # set default size of plots\n",
    "plt.rcParams['image.interpolation'] = 'nearest'\n",
    "plt.rcParams['image.cmap'] = 'gray'\n",
    "# Some more magic so that the notebook will reload external python modules;\n",
    "# see http://stackoverflow.com/questions/1907993/autoreload-of-modules-in-ipython\n",
    "%load_ext autoreload\n",
    "%autoreload 2"
   ]
  },
  {
   "cell_type": "code",
   "execution_count": 72,
   "metadata": {
    "collapsed": false
   },
   "outputs": [],
   "source": [
    "train_data=np.load(\"D:/GitHub/Neural-Network-Theory-and-Applications-Homework-SJTU2018/Homework Assignment 2/data_hw2/train_data.npy\")\n",
    "train_label=np.load(\"D:/GitHub/Neural-Network-Theory-and-Applications-Homework-SJTU2018/Homework Assignment 2/data_hw2/train_label.npy\")\n",
    "test_data=np.load(\"D:/GitHub/Neural-Network-Theory-and-Applications-Homework-SJTU2018/Homework Assignment 2/data_hw2/test_data.npy\")\n",
    "test_label=np.load(\"D:/GitHub/Neural-Network-Theory-and-Applications-Homework-SJTU2018/Homework Assignment 2/data_hw2/test_label.npy\")"
   ]
  },
  {
   "cell_type": "markdown",
   "metadata": {},
   "source": [
    "##原来的标签是{-1,0,1}，现在变为三堆样本标签，正样本是0，负样本是1"
   ]
  },
  {
   "cell_type": "code",
   "execution_count": 63,
   "metadata": {
    "collapsed": false
   },
   "outputs": [],
   "source": [
    "train_label_0=np.where(train_label == 0, 0, 1)\n",
    "train_label_1=np.where(train_label == 1, 0, 1)\n",
    "train_label_negative1=np.where(train_label == -1, 0, 1)\n",
    "\n",
    "test_label_0=np.where(test_label == 0, 0, 1)\n",
    "test_label_1=np.where(test_label == 1, 0, 1)\n",
    "test_label_negative1=np.where(test_label == -1, 0, 1)"
   ]
  },
  {
   "cell_type": "markdown",
   "metadata": {},
   "source": [
    "##建立正负样本索引"
   ]
  },
  {
   "cell_type": "code",
   "execution_count": 4,
   "metadata": {
    "collapsed": true
   },
   "outputs": [],
   "source": [
    "train_index_0_0=[]\n",
    "train_index_0_1=[]\n",
    "train_index_1_0=[]\n",
    "train_index_1_1=[]\n",
    "train_index_negative1_0=[]\n",
    "train_index_negative1_1=[]\n",
    "for i in range(37367):\n",
    "    if train_label_0[i] == 0:\n",
    "        train_index_0_0.append(i)\n",
    "    else:\n",
    "        train_index_0_1.append(i)\n",
    "for i in range(37367):\n",
    "    if train_label_1[i] == 0:\n",
    "        train_index_1_0.append(i)\n",
    "    else:\n",
    "        train_index_1_1.append(i)\n",
    "for i in range(37367):\n",
    "    if train_label_negative1[i] == 0:\n",
    "        train_index_negative1_0.append(i)\n",
    "    else:\n",
    "        train_index_negative1_1.append(i)"
   ]
  },
  {
   "cell_type": "markdown",
   "metadata": {},
   "source": [
    "##将索引随机打乱"
   ]
  },
  {
   "cell_type": "code",
   "execution_count": 5,
   "metadata": {
    "collapsed": false
   },
   "outputs": [],
   "source": [
    "np.random.shuffle(train_index_0_0)\n",
    "np.random.shuffle(train_index_0_1)\n",
    "np.random.shuffle(train_index_1_0)\n",
    "np.random.shuffle(train_index_1_1)\n",
    "np.random.shuffle(train_index_negative1_0)\n",
    "np.random.shuffle(train_index_negative1_1)"
   ]
  },
  {
   "cell_type": "markdown",
   "metadata": {},
   "source": [
    "#### 实现了论文中的正负索引随机分堆，共3个二分类问题，每个二分类问题正样本2堆，负样本4堆"
   ]
  },
  {
   "cell_type": "code",
   "execution_count": 6,
   "metadata": {
    "collapsed": false
   },
   "outputs": [],
   "source": [
    "train_index_0_0_1st=train_index_0_0[:int(0.5*len(train_index_0_0))]\n",
    "train_index_0_0_2st=train_index_0_0[int(0.5*len(train_index_0_0)):]\n",
    "train_index_0_1_1st=train_index_0_1[:int(0.25*len(train_index_0_1))]\n",
    "train_index_0_1_2st=train_index_0_1[int(0.25*len(train_index_0_1)):int(0.5*len(train_index_0_1))]\n",
    "train_index_0_1_3st=train_index_0_1[int(0.5*len(train_index_0_1)):int(0.75*len(train_index_0_1))]\n",
    "train_index_0_1_4st=train_index_0_1[int(0.75*len(train_index_0_1)):]\n",
    "\n",
    "train_index_1_0_1st=train_index_1_0[:int(0.5*len(train_index_1_0))]\n",
    "train_index_1_0_2st=train_index_1_0[int(0.5*len(train_index_1_0)):]\n",
    "train_index_1_1_1st=train_index_1_1[:int(0.25*len(train_index_1_1))]\n",
    "train_index_1_1_2st=train_index_1_1[int(0.25*len(train_index_1_1)):int(0.5*len(train_index_1_1))]\n",
    "train_index_1_1_3st=train_index_1_1[int(0.5*len(train_index_1_1)):int(0.75*len(train_index_1_1))]\n",
    "train_index_1_1_4st=train_index_1_1[int(0.75*len(train_index_1_1)):]\n",
    "\n",
    "train_index_negative1_0_1st=train_index_negative1_0[:int(0.5*len(train_index_negative1_0))]\n",
    "train_index_negative1_0_2st=train_index_negative1_0[int(0.5*len(train_index_negative1_0)):]\n",
    "train_index_negative1_1_1st=train_index_negative1_1[:int(0.25*len(train_index_negative1_1))]\n",
    "train_index_negative1_1_2st=train_index_negative1_1[int(0.25*len(train_index_negative1_1)):int(0.5*len(train_index_negative1_1))]\n",
    "train_index_negative1_1_3st=train_index_negative1_1[int(0.5*len(train_index_negative1_1)):int(0.75*len(train_index_negative1_1))]\n",
    "train_index_negative1_1_4st=train_index_negative1_1[int(0.75*len(train_index_negative1_1)):]"
   ]
  },
  {
   "cell_type": "markdown",
   "metadata": {},
   "source": [
    "##实现了论文中的正负索引组合，生成8堆混合样本"
   ]
  },
  {
   "cell_type": "code",
   "execution_count": 7,
   "metadata": {
    "collapsed": true
   },
   "outputs": [],
   "source": [
    "train_index_0_11=np.concatenate((train_index_0_0_1st,train_index_0_1_1st)) \n",
    "train_index_0_12=np.concatenate((train_index_0_0_1st,train_index_0_1_2st)) \n",
    "train_index_0_13=np.concatenate((train_index_0_0_1st,train_index_0_1_3st)) \n",
    "train_index_0_14=np.concatenate((train_index_0_0_1st,train_index_0_1_4st)) \n",
    "train_index_0_21=np.concatenate((train_index_0_0_2st,train_index_0_1_1st)) \n",
    "train_index_0_22=np.concatenate((train_index_0_0_2st,train_index_0_1_2st)) \n",
    "train_index_0_23=np.concatenate((train_index_0_0_2st,train_index_0_1_3st)) \n",
    "train_index_0_24=np.concatenate((train_index_0_0_2st,train_index_0_1_4st)) \n",
    "\n",
    "train_index_1_11=np.concatenate((train_index_1_0_1st,train_index_1_1_1st)) \n",
    "train_index_1_12=np.concatenate((train_index_1_0_1st,train_index_1_1_2st)) \n",
    "train_index_1_13=np.concatenate((train_index_1_0_1st,train_index_1_1_3st)) \n",
    "train_index_1_14=np.concatenate((train_index_1_0_1st,train_index_1_1_4st)) \n",
    "train_index_1_21=np.concatenate((train_index_1_0_2st,train_index_1_1_1st)) \n",
    "train_index_1_22=np.concatenate((train_index_1_0_2st,train_index_1_1_2st)) \n",
    "train_index_1_23=np.concatenate((train_index_1_0_2st,train_index_1_1_3st)) \n",
    "train_index_1_24=np.concatenate((train_index_1_0_2st,train_index_1_1_4st)) \n",
    "\n",
    "train_index_negative1_11=np.concatenate((train_index_negative1_0_1st,train_index_negative1_1_1st)) \n",
    "train_index_negative1_12=np.concatenate((train_index_negative1_0_1st,train_index_negative1_1_2st)) \n",
    "train_index_negative1_13=np.concatenate((train_index_negative1_0_1st,train_index_negative1_1_3st)) \n",
    "train_index_negative1_14=np.concatenate((train_index_negative1_0_1st,train_index_negative1_1_4st)) \n",
    "train_index_negative1_21=np.concatenate((train_index_negative1_0_2st,train_index_negative1_1_1st)) \n",
    "train_index_negative1_22=np.concatenate((train_index_negative1_0_2st,train_index_negative1_1_2st)) \n",
    "train_index_negative1_23=np.concatenate((train_index_negative1_0_2st,train_index_negative1_1_3st)) \n",
    "train_index_negative1_24=np.concatenate((train_index_negative1_0_2st,train_index_negative1_1_4st)) "
   ]
  },
  {
   "cell_type": "markdown",
   "metadata": {},
   "source": [
    "##为每个二分类问题建立8个分类器，一共24个SVM分类器"
   ]
  },
  {
   "cell_type": "code",
   "execution_count": null,
   "metadata": {
    "collapsed": true
   },
   "outputs": [],
   "source": [
    "svc_0_11=CalibratedClassifierCV(svm.LinearSVC(C=2e-7)) \n",
    "svc_0_12=CalibratedClassifierCV(svm.LinearSVC(C=2e-7)) \n",
    "svc_0_13=CalibratedClassifierCV(svm.LinearSVC(C=2e-7)) \n",
    "svc_0_14=CalibratedClassifierCV(svm.LinearSVC(C=2e-7)) \n",
    "svc_0_21=CalibratedClassifierCV(svm.LinearSVC(C=2e-7)) \n",
    "svc_0_22=CalibratedClassifierCV(svm.LinearSVC(C=2e-7)) \n",
    "svc_0_23=CalibratedClassifierCV(svm.LinearSVC(C=2e-7)) \n",
    "svc_0_24=CalibratedClassifierCV(svm.LinearSVC(C=2e-7)) \n",
    "\n",
    "svc_1_11=CalibratedClassifierCV(svm.LinearSVC(C=2e-7)) \n",
    "svc_1_12=CalibratedClassifierCV(svm.LinearSVC(C=2e-7)) \n",
    "svc_1_13=CalibratedClassifierCV(svm.LinearSVC(C=2e-7)) \n",
    "svc_1_14=CalibratedClassifierCV(svm.LinearSVC(C=2e-7)) \n",
    "svc_1_21=CalibratedClassifierCV(svm.LinearSVC(C=2e-7)) \n",
    "svc_1_22=CalibratedClassifierCV(svm.LinearSVC(C=2e-7)) \n",
    "svc_1_23=CalibratedClassifierCV(svm.LinearSVC(C=2e-7)) \n",
    "svc_1_24=CalibratedClassifierCV(svm.LinearSVC(C=2e-7)) \n"
   ]
  },
  {
   "cell_type": "code",
   "execution_count": 55,
   "metadata": {
    "collapsed": false
   },
   "outputs": [],
   "source": [
    "svc_negative1_11=CalibratedClassifierCV(svm.LinearSVC(C=1e-5)) \n",
    "svc_negative1_12=CalibratedClassifierCV(svm.LinearSVC(C=1e-5)) \n",
    "svc_negative1_13=CalibratedClassifierCV(svm.LinearSVC(C=1e-5)) \n",
    "svc_negative1_14=CalibratedClassifierCV(svm.LinearSVC(C=1e-5)) \n",
    "svc_negative1_21=CalibratedClassifierCV(svm.LinearSVC(C=1e-5)) \n",
    "svc_negative1_22=CalibratedClassifierCV(svm.LinearSVC(C=1e-5)) \n",
    "svc_negative1_23=CalibratedClassifierCV(svm.LinearSVC(C=1e-5)) \n",
    "svc_negative1_24=CalibratedClassifierCV(svm.LinearSVC(C=1e-5)) "
   ]
  },
  {
   "cell_type": "markdown",
   "metadata": {},
   "source": [
    "##每个二分类问题训练8个分类器，一共训练24个分类器"
   ]
  },
  {
   "cell_type": "code",
   "execution_count": 46,
   "metadata": {
    "collapsed": false
   },
   "outputs": [
    {
     "data": {
      "text/plain": [
       "CalibratedClassifierCV(base_estimator=LinearSVC(C=2e-07, class_weight=None, dual=True, fit_intercept=True,\n",
       "     intercept_scaling=1, loss='squared_hinge', max_iter=1000,\n",
       "     multi_class='ovr', penalty='l2', random_state=None, tol=0.0001,\n",
       "     verbose=0),\n",
       "            cv=3, method='sigmoid')"
      ]
     },
     "execution_count": 46,
     "metadata": {},
     "output_type": "execute_result"
    }
   ],
   "source": [
    "svc_0_11.fit(train_data[train_index_0_11], train_label_0[train_index_0_11])\n",
    "svc_0_12.fit(train_data[train_index_0_12], train_label_0[train_index_0_12])\n",
    "svc_0_13.fit(train_data[train_index_0_13], train_label_0[train_index_0_13])\n",
    "svc_0_14.fit(train_data[train_index_0_14], train_label_0[train_index_0_14])\n",
    "svc_0_21.fit(train_data[train_index_0_21], train_label_0[train_index_0_21])\n",
    "svc_0_22.fit(train_data[train_index_0_22], train_label_0[train_index_0_22])\n",
    "svc_0_23.fit(train_data[train_index_0_23], train_label_0[train_index_0_23])\n",
    "svc_0_24.fit(train_data[train_index_0_24], train_label_0[train_index_0_24])"
   ]
  },
  {
   "cell_type": "code",
   "execution_count": 47,
   "metadata": {
    "collapsed": false
   },
   "outputs": [
    {
     "data": {
      "text/plain": [
       "CalibratedClassifierCV(base_estimator=LinearSVC(C=2e-07, class_weight=None, dual=True, fit_intercept=True,\n",
       "     intercept_scaling=1, loss='squared_hinge', max_iter=1000,\n",
       "     multi_class='ovr', penalty='l2', random_state=None, tol=0.0001,\n",
       "     verbose=0),\n",
       "            cv=3, method='sigmoid')"
      ]
     },
     "execution_count": 47,
     "metadata": {},
     "output_type": "execute_result"
    }
   ],
   "source": [
    "svc_1_11.fit(train_data[train_index_1_11], train_label_1[train_index_1_11])\n",
    "svc_1_12.fit(train_data[train_index_1_12], train_label_1[train_index_1_12])\n",
    "svc_1_13.fit(train_data[train_index_1_13], train_label_1[train_index_1_13])\n",
    "svc_1_14.fit(train_data[train_index_1_14], train_label_1[train_index_1_14])\n",
    "svc_1_21.fit(train_data[train_index_1_21], train_label_1[train_index_1_21])\n",
    "svc_1_22.fit(train_data[train_index_1_22], train_label_1[train_index_1_22])\n",
    "svc_1_23.fit(train_data[train_index_1_23], train_label_1[train_index_1_23])\n",
    "svc_1_24.fit(train_data[train_index_1_24], train_label_1[train_index_1_24])"
   ]
  },
  {
   "cell_type": "code",
   "execution_count": 56,
   "metadata": {
    "collapsed": false
   },
   "outputs": [
    {
     "data": {
      "text/plain": [
       "CalibratedClassifierCV(base_estimator=LinearSVC(C=1e-05, class_weight=None, dual=True, fit_intercept=True,\n",
       "     intercept_scaling=1, loss='squared_hinge', max_iter=1000,\n",
       "     multi_class='ovr', penalty='l2', random_state=None, tol=0.0001,\n",
       "     verbose=0),\n",
       "            cv=3, method='sigmoid')"
      ]
     },
     "execution_count": 56,
     "metadata": {},
     "output_type": "execute_result"
    }
   ],
   "source": [
    "svc_negative1_11.fit(train_data[train_index_negative1_11], train_label_negative1[train_index_negative1_11])\n",
    "svc_negative1_12.fit(train_data[train_index_negative1_12], train_label_negative1[train_index_negative1_12])\n",
    "svc_negative1_13.fit(train_data[train_index_negative1_13], train_label_negative1[train_index_negative1_13])\n",
    "svc_negative1_14.fit(train_data[train_index_negative1_14], train_label_negative1[train_index_negative1_14])\n",
    "svc_negative1_21.fit(train_data[train_index_negative1_21], train_label_negative1[train_index_negative1_21])\n",
    "svc_negative1_22.fit(train_data[train_index_negative1_22], train_label_negative1[train_index_negative1_22])\n",
    "svc_negative1_23.fit(train_data[train_index_negative1_23], train_label_negative1[train_index_negative1_23])\n",
    "svc_negative1_24.fit(train_data[train_index_negative1_24], train_label_negative1[train_index_negative1_24])"
   ]
  },
  {
   "cell_type": "markdown",
   "metadata": {},
   "source": [
    "##实现min-max-modular"
   ]
  },
  {
   "cell_type": "code",
   "execution_count": 57,
   "metadata": {
    "collapsed": false
   },
   "outputs": [],
   "source": [
    "test_pred_0_11 = svc_0_11.predict_proba(test_data)[:,0]\n",
    "test_pred_0_12 = svc_0_12.predict_proba(test_data)[:,0]\n",
    "test_pred_0_13 = svc_0_13.predict_proba(test_data)[:,0]\n",
    "test_pred_0_14 = svc_0_14.predict_proba(test_data)[:,0]\n",
    "test_pred_0_21 = svc_0_21.predict_proba(test_data)[:,0]\n",
    "test_pred_0_22 = svc_0_22.predict_proba(test_data)[:,0]\n",
    "test_pred_0_23 = svc_0_23.predict_proba(test_data)[:,0]\n",
    "test_pred_0_24 = svc_0_24.predict_proba(test_data)[:,0]\n",
    "\n",
    "test_pred_1_11 = svc_1_11.predict_proba(test_data)[:,0]\n",
    "test_pred_1_12 = svc_1_12.predict_proba(test_data)[:,0]\n",
    "test_pred_1_13 = svc_1_13.predict_proba(test_data)[:,0]\n",
    "test_pred_1_14 = svc_1_14.predict_proba(test_data)[:,0]\n",
    "test_pred_1_21 = svc_1_21.predict_proba(test_data)[:,0]\n",
    "test_pred_1_22 = svc_1_22.predict_proba(test_data)[:,0]\n",
    "test_pred_1_23 = svc_1_23.predict_proba(test_data)[:,0]\n",
    "test_pred_1_24 = svc_1_24.predict_proba(test_data)[:,0]\n",
    "\n",
    "test_pred_negative1_11 = svc_negative1_11.predict_proba(test_data)[:,0]\n",
    "test_pred_negative1_12 = svc_negative1_12.predict_proba(test_data)[:,0]\n",
    "test_pred_negative1_13 = svc_negative1_13.predict_proba(test_data)[:,0]\n",
    "test_pred_negative1_14 = svc_negative1_14.predict_proba(test_data)[:,0]\n",
    "test_pred_negative1_21 = svc_negative1_21.predict_proba(test_data)[:,0]\n",
    "test_pred_negative1_22 = svc_negative1_22.predict_proba(test_data)[:,0]\n",
    "test_pred_negative1_23 = svc_negative1_23.predict_proba(test_data)[:,0]\n",
    "test_pred_negative1_24 = svc_negative1_24.predict_proba(test_data)[:,0]"
   ]
  },
  {
   "cell_type": "code",
   "execution_count": 58,
   "metadata": {
    "collapsed": false
   },
   "outputs": [],
   "source": [
    "test_pred_0_1x=np.vstack([test_pred_0_11,test_pred_0_12,test_pred_0_13,test_pred_0_14]) #test_pred_0_1x.shape=(4, 13588)\n",
    "test_pred_0_2x=np.vstack([test_pred_0_21,test_pred_0_22,test_pred_0_23,test_pred_0_24])\n",
    "test_pred_1_1x=np.vstack([test_pred_1_11,test_pred_1_12,test_pred_1_13,test_pred_1_14])\n",
    "test_pred_1_2x=np.vstack([test_pred_1_21,test_pred_1_22,test_pred_1_23,test_pred_1_24])\n",
    "test_pred_negative1_1x=np.vstack([test_pred_negative1_11,test_pred_negative1_12,test_pred_negative1_13,test_pred_negative1_14])\n",
    "test_pred_negative1_2x=np.vstack([test_pred_negative1_21,test_pred_negative1_22,test_pred_negative1_23,test_pred_negative1_24])"
   ]
  },
  {
   "cell_type": "code",
   "execution_count": 59,
   "metadata": {
    "collapsed": false
   },
   "outputs": [],
   "source": [
    "test_pred_0=[]\n",
    "test_pred_1=[]\n",
    "test_pred_negative1=[]\n",
    "for i in range(13588):\n",
    "    min_index_0_1x=int(np.where(test_pred_0_1x[:,i]==np.min(test_pred_0_1x[:,i]))[0])\n",
    "    min_index_0_2x=int(np.where(test_pred_0_2x[:,i]==np.min(test_pred_0_2x[:,i]))[0])\n",
    "    if test_pred_0_1x[min_index_0_1x,i] > test_pred_0_2x[min_index_0_2x,i]:\n",
    "        test_pred_0.append(test_pred_0_1x[min_index_0_1x,i])\n",
    "    else:\n",
    "        test_pred_0.append(test_pred_0_2x[min_index_0_2x,i])\n",
    "        \n",
    "for i in range(13588):\n",
    "    min_index_1_1x=int(np.where(test_pred_1_1x[:,i]==np.min(test_pred_1_1x[:,i]))[0])\n",
    "    min_index_1_2x=int(np.where(test_pred_1_2x[:,i]==np.min(test_pred_1_2x[:,i]))[0])\n",
    "    if test_pred_1_1x[min_index_1_1x,i] > test_pred_1_2x[min_index_1_2x,i]:\n",
    "        test_pred_1.append(test_pred_1_1x[min_index_1_1x,i])\n",
    "    else:\n",
    "        test_pred_1.append(test_pred_1_2x[min_index_1_2x,i])\n",
    "        \n",
    "for i in range(13588):\n",
    "    min_index_negative1_1x=int(np.where(test_pred_negative1_1x[:,i]==np.min(test_pred_negative1_1x[:,i]))[0])\n",
    "    min_index_negative1_2x=int(np.where(test_pred_negative1_2x[:,i]==np.min(test_pred_negative1_2x[:,i]))[0])\n",
    "    if test_pred_negative1_1x[min_index_negative1_1x,i] > test_pred_negative1_2x[min_index_negative1_2x,i]:\n",
    "        test_pred_negative1.append(test_pred_negative1_1x[min_index_negative1_1x,i])\n",
    "    else:\n",
    "        test_pred_negative1.append(test_pred_negative1_2x[min_index_negative1_2x,i])"
   ]
  },
  {
   "cell_type": "code",
   "execution_count": 71,
   "metadata": {
    "collapsed": false
   },
   "outputs": [],
   "source": [
    "test_pred=[]\n",
    "train_pred=[]\n",
    "for i in range(13588):\n",
    "    maxone=max(test_pred_0[i],test_pred_1[i],test_pred_negative1[i])\n",
    "    if maxone == test_pred_0[i]:\n",
    "        test_pred.append(0)\n",
    "    elif maxone == test_pred_1[i]:\n",
    "        test_pred.append(1)\n",
    "    elif maxone == test_pred_negative1[i]:\n",
    "        test_pred.append(-1)"
   ]
  },
  {
   "cell_type": "code",
   "execution_count": 64,
   "metadata": {
    "collapsed": true
   },
   "outputs": [],
   "source": [
    "test_label_roc=np.concatenate((test_label_0,test_label_1,test_label_negative1)) \n",
    "test_pred_roc=np.concatenate((test_pred_0,test_pred_1,test_pred_negative1))"
   ]
  },
  {
   "cell_type": "code",
   "execution_count": 65,
   "metadata": {
    "collapsed": true
   },
   "outputs": [],
   "source": [
    "#画ROC曲线和计算AUC  \n",
    "fpr_0, tpr_0, thresholds_0 = roc_curve(test_label_0, test_pred_0,pos_label=0)#\n",
    "roc_auc_0 = auc(fpr_0, tpr_0)    \n",
    "fpr_1, tpr_1, thresholds_1 = roc_curve(test_label_1, test_pred_1,pos_label=0)#\n",
    "roc_auc_1 = auc(fpr_1, tpr_1)  \n",
    "fpr_negative1, tpr_negative1, thresholds_negative1 = roc_curve(test_label_negative1, test_pred_negative1,pos_label=0)#\n",
    "roc_auc_negative1 = auc(fpr_negative1, tpr_negative1) \n",
    "fpr_m, tpr_m, thresholds_m = roc_curve(test_label_roc, test_pred_roc,pos_label=0)\n",
    "roc_auc_m = auc(fpr_m, tpr_m)"
   ]
  },
  {
   "cell_type": "code",
   "execution_count": 77,
   "metadata": {
    "collapsed": false
   },
   "outputs": [
    {
     "data": {
      "image/png": "[encoded data removed]",
      "text/plain": [
       "<matplotlib.figure.Figure at 0x1f38075dda0>"
      ]
     },
     "metadata": {},
     "output_type": "display_data"
    }
   ],
   "source": [
    "plt.figure()\n",
    "lw = 2\n",
    "plt.plot(fpr_0, tpr_0, color='darkorange',\n",
    "         lw=lw, label='class(0) ROC curve (area = %0.2f)' % roc_auc_0)\n",
    "plt.plot(fpr_1, tpr_1, color='green',\n",
    "         lw=lw, label='class(1) ROC curve (area = %0.2f)' % roc_auc_1)\n",
    "plt.plot(fpr_negative1, tpr_negative1, color='blue',\n",
    "         lw=lw, label='class(-1) ROC curve (area = %0.2f)' % roc_auc_negative1)\n",
    "plt.plot(fpr_m, tpr_m, color='black',linestyle=':',\n",
    "         lw=6, label='average ROC curve (area = %0.2f)' % roc_auc_m)\n",
    "plt.plot([0, 1], [0, 1], color='navy', lw=lw, linestyle='--')\n",
    "plt.xlim([0.0, 1.0])\n",
    "plt.ylim([0.0, 1.05])\n",
    "plt.xlabel('False Positive Rate')\n",
    "plt.ylabel('True Positive Rate')\n",
    "plt.title('ROC curve of classbased-M3SVM')\n",
    "plt.legend(loc=\"lower right\")\n",
    "plt.savefig('roc priori-m3svm.png')\n",
    "plt.show()"
   ]
  },
  {
   "cell_type": "code",
   "execution_count": 74,
   "metadata": {
    "collapsed": false,
    "scrolled": true
   },
   "outputs": [
    {
     "name": "stdout",
     "output_type": "stream",
     "text": [
      "0.57300559317\n"
     ]
    }
   ],
   "source": [
    "print(accuracy_score(test_label, test_pred))"
   ]
  },
  {
   "cell_type": "code",
   "execution_count": 75,
   "metadata": {
    "collapsed": false
   },
   "outputs": [
    {
     "name": "stdout",
     "output_type": "stream",
     "text": [
      "             precision    recall  f1-score   support\n",
      "\n",
      "    class 0       0.54      0.34      0.42      4480\n",
      "    class 1       0.51      0.53      0.52      4416\n",
      "    class 2       0.63      0.83      0.72      4692\n",
      "\n",
      "avg / total       0.56      0.57      0.56     13588\n",
      "\n"
     ]
    }
   ],
   "source": [
    "target_names = ['class 0', 'class 1', 'class 2']\n",
    "print(classification_report(test_label, test_pred, target_names=target_names))"
   ]
  },
  {
   "cell_type": "code",
   "execution_count": null,
   "metadata": {
    "collapsed": true
   },
   "outputs": [],
   "source": []
  }
 ],
 "metadata": {
  "kernelspec": {
   "display_name": "Python 3",
   "language": "python",
   "name": "python3"
  },
  "language_info": {
   "codemirror_mode": {
    "name": "ipython",
    "version": 3
   },
   "file_extension": ".py",
   "mimetype": "text/x-python",
   "name": "python",
   "nbconvert_exporter": "python",
   "pygments_lexer": "ipython3",
   "version": "3.6.0"
  }
 },
 "nbformat": 4,
 "nbformat_minor": 2
}
