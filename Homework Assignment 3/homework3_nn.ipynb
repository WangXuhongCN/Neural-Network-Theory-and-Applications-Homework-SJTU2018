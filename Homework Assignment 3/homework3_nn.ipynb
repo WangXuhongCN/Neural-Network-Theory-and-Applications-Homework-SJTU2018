{
 "cells": [
  {
   "cell_type": "code",
   "execution_count": 1,
   "metadata": {
    "collapsed": false
   },
   "outputs": [
    {
     "name": "stderr",
     "output_type": "stream",
     "text": [
      "Using TensorFlow backend.\n"
     ]
    }
   ],
   "source": [
    "import numpy as np\n",
    "np.random.seed(1337)  # for reproducibility\n",
    "import keras\n",
    "from keras.datasets import mnist\n",
    "from keras.utils import np_utils\n",
    "from keras.models import Sequential\n",
    "from keras.layers import Dense, Activation\n",
    "from keras.optimizers import Adam\n",
    "import matplotlib.pyplot as plt\n",
    "%matplotlib inline\n",
    "from keras.callbacks import Callback\n",
    "import time\n",
    "import matplotlib.image as pimg"
   ]
  },
  {
   "cell_type": "code",
   "execution_count": 2,
   "metadata": {
    "collapsed": false
   },
   "outputs": [],
   "source": [
    "#-------------------------------------------------------------\n",
    "#写一个LossHistory类，保存loss和acc\n",
    "class LossHistory(keras.callbacks.Callback):\n",
    "    def on_train_begin(self, logs={}):\n",
    "        self.losses = {'batch':[], 'epoch':[]}\n",
    "        self.accuracy = {'batch':[], 'epoch':[]}\n",
    "        self.val_loss = {'batch':[], 'epoch':[]}\n",
    "        self.val_acc = {'batch':[], 'epoch':[]}\n",
    "\n",
    "    def on_batch_end(self, batch, logs={}):\n",
    "        self.losses['batch'].append(logs.get('loss'))\n",
    "        self.accuracy['batch'].append(logs.get('acc'))\n",
    "        self.val_loss['batch'].append(logs.get('val_loss'))\n",
    "        self.val_acc['batch'].append(logs.get('val_acc'))\n",
    "\n",
    "    def on_epoch_end(self, batch, logs={}):\n",
    "        self.losses['epoch'].append(logs.get('loss'))\n",
    "        self.accuracy['epoch'].append(logs.get('acc'))\n",
    "        self.val_loss['epoch'].append(logs.get('val_loss'))\n",
    "        self.val_acc['epoch'].append(logs.get('val_acc'))\n",
    "\n",
    "    def loss_plot(self, loss_type):\n",
    "        iters = range(len(self.losses[loss_type]))\n",
    "        plt.figure()\n",
    "        # acc\n",
    "        plt.plot(iters, self.accuracy[loss_type], 'r', label='train acc')\n",
    "        # loss\n",
    "        plt.plot(iters, self.losses[loss_type], 'g', label='train loss')\n",
    "        if loss_type == 'epoch':\n",
    "            # val_acc\n",
    "            plt.plot(iters, self.val_acc[loss_type], 'b', label='val acc')\n",
    "            # val_loss\n",
    "            plt.plot(iters, self.val_loss[loss_type], 'k', label='val loss')\n",
    "        plt.grid(True)\n",
    "        plt.xlabel(loss_type)\n",
    "        plt.ylabel('acc-loss')\n",
    "        plt.legend(loc=\"upper right\")\n",
    "        plt.savefig('acc-loss of nn.png', dpi=400)\n",
    "        plt.show()"
   ]
  },
  {
   "cell_type": "code",
   "execution_count": 3,
   "metadata": {
    "collapsed": true
   },
   "outputs": [],
   "source": [
    "#-------------------------------------------------------------\n",
    "#下载数据\n",
    "(X_train, y_train), (X_test, y_test) = mnist.load_data()\n",
    "#--------------------------------------------------------------\n",
    "# 数据预处理\n",
    "X_train = X_train.reshape(X_train.shape[0], -1) / 255.   # normalize\n",
    "X_test = X_test.reshape(X_test.shape[0], -1) / 255.      # normalize\n",
    "y_train = np_utils.to_categorical(y_train, num_classes=10)\n",
    "y_test = np_utils.to_categorical(y_test, num_classes=10)\n",
    "#-------------------------------------------------------------"
   ]
  },
  {
   "cell_type": "code",
   "execution_count": 4,
   "metadata": {
    "collapsed": false
   },
   "outputs": [
    {
     "name": "stdout",
     "output_type": "stream",
     "text": [
      "Training ------------\n",
      "Train on 42000 samples, validate on 18000 samples\n",
      "Epoch 1/50\n",
      " - 2s - loss: 1.1184 - acc: 0.6903 - val_loss: 0.5126 - val_acc: 0.8697\n",
      "Epoch 2/50\n",
      " - 1s - loss: 0.4356 - acc: 0.8864 - val_loss: 0.3622 - val_acc: 0.9002\n",
      "Epoch 3/50\n",
      " - 1s - loss: 0.3414 - acc: 0.9069 - val_loss: 0.3162 - val_acc: 0.9127\n",
      "Epoch 4/50\n",
      " - 1s - loss: 0.3013 - acc: 0.9166 - val_loss: 0.2876 - val_acc: 0.9200\n",
      "Epoch 5/50\n",
      " - 1s - loss: 0.2749 - acc: 0.9233 - val_loss: 0.2698 - val_acc: 0.9246\n",
      "Epoch 6/50\n",
      " - 1s - loss: 0.2551 - acc: 0.9290 - val_loss: 0.2573 - val_acc: 0.9267\n",
      "Epoch 7/50\n",
      " - 1s - loss: 0.2400 - acc: 0.9326 - val_loss: 0.2454 - val_acc: 0.9298\n",
      "Epoch 8/50\n",
      " - 1s - loss: 0.2265 - acc: 0.9354 - val_loss: 0.2334 - val_acc: 0.9348\n",
      "Epoch 9/50\n",
      " - 1s - loss: 0.2167 - acc: 0.9389 - val_loss: 0.2274 - val_acc: 0.9351\n",
      "Epoch 10/50\n",
      " - 1s - loss: 0.2034 - acc: 0.9431 - val_loss: 0.2181 - val_acc: 0.9384\n",
      "Epoch 11/50\n",
      " - 1s - loss: 0.1966 - acc: 0.9445 - val_loss: 0.2126 - val_acc: 0.9399\n",
      "Epoch 12/50\n",
      " - 1s - loss: 0.1874 - acc: 0.9474 - val_loss: 0.2095 - val_acc: 0.9399\n",
      "Epoch 13/50\n",
      " - 1s - loss: 0.1833 - acc: 0.9477 - val_loss: 0.2026 - val_acc: 0.9423\n",
      "Epoch 14/50\n",
      " - 1s - loss: 0.1728 - acc: 0.9514 - val_loss: 0.2007 - val_acc: 0.9437\n",
      "Epoch 15/50\n",
      " - 1s - loss: 0.1677 - acc: 0.9520 - val_loss: 0.1935 - val_acc: 0.9451\n",
      "Epoch 16/50\n",
      " - 1s - loss: 0.1618 - acc: 0.9531 - val_loss: 0.1896 - val_acc: 0.9461\n",
      "Epoch 17/50\n",
      " - 1s - loss: 0.1565 - acc: 0.9548 - val_loss: 0.1869 - val_acc: 0.9464\n",
      "Epoch 18/50\n",
      " - 1s - loss: 0.1516 - acc: 0.9567 - val_loss: 0.1833 - val_acc: 0.9474\n",
      "Epoch 19/50\n",
      " - 1s - loss: 0.1459 - acc: 0.9580 - val_loss: 0.1791 - val_acc: 0.9491\n",
      "Epoch 20/50\n",
      " - 1s - loss: 0.1424 - acc: 0.9585 - val_loss: 0.1764 - val_acc: 0.9502\n",
      "Epoch 21/50\n",
      " - 1s - loss: 0.1377 - acc: 0.9610 - val_loss: 0.1746 - val_acc: 0.9509\n",
      "Epoch 22/50\n",
      " - 1s - loss: 0.1326 - acc: 0.9620 - val_loss: 0.1733 - val_acc: 0.9504\n",
      "Epoch 23/50\n",
      " - 1s - loss: 0.1287 - acc: 0.9633 - val_loss: 0.1692 - val_acc: 0.9508\n",
      "Epoch 24/50\n",
      " - 1s - loss: 0.1258 - acc: 0.9640 - val_loss: 0.1668 - val_acc: 0.9525\n",
      "Epoch 25/50\n",
      " - 1s - loss: 0.1228 - acc: 0.9646 - val_loss: 0.1674 - val_acc: 0.9512\n",
      "Epoch 26/50\n",
      " - 1s - loss: 0.1195 - acc: 0.9659 - val_loss: 0.1660 - val_acc: 0.9525\n",
      "Epoch 27/50\n",
      " - 1s - loss: 0.1140 - acc: 0.9678 - val_loss: 0.1658 - val_acc: 0.9527\n",
      "Epoch 28/50\n",
      " - 1s - loss: 0.1111 - acc: 0.9683 - val_loss: 0.1592 - val_acc: 0.9538\n",
      "Epoch 29/50\n",
      " - 1s - loss: 0.1076 - acc: 0.9698 - val_loss: 0.1612 - val_acc: 0.9527\n",
      "Epoch 30/50\n",
      " - 1s - loss: 0.1062 - acc: 0.9698 - val_loss: 0.1583 - val_acc: 0.9541\n",
      "Epoch 31/50\n",
      " - 1s - loss: 0.1031 - acc: 0.9705 - val_loss: 0.1551 - val_acc: 0.9543\n",
      "Epoch 32/50\n",
      " - 1s - loss: 0.1004 - acc: 0.9712 - val_loss: 0.1556 - val_acc: 0.9552\n",
      "Epoch 33/50\n",
      " - 1s - loss: 0.0988 - acc: 0.9716 - val_loss: 0.1528 - val_acc: 0.9559\n",
      "Epoch 34/50\n",
      " - 1s - loss: 0.0958 - acc: 0.9727 - val_loss: 0.1573 - val_acc: 0.9544\n",
      "Epoch 35/50\n",
      " - 1s - loss: 0.0934 - acc: 0.9733 - val_loss: 0.1519 - val_acc: 0.9552\n",
      "Epoch 36/50\n",
      " - 1s - loss: 0.0910 - acc: 0.9741 - val_loss: 0.1506 - val_acc: 0.9552\n",
      "Epoch 37/50\n",
      " - 1s - loss: 0.0890 - acc: 0.9744 - val_loss: 0.1511 - val_acc: 0.9559\n",
      "Epoch 38/50\n",
      " - 1s - loss: 0.0885 - acc: 0.9746 - val_loss: 0.1491 - val_acc: 0.9569\n",
      "Epoch 39/50\n",
      " - 1s - loss: 0.0849 - acc: 0.9757 - val_loss: 0.1506 - val_acc: 0.9568\n",
      "Epoch 40/50\n",
      " - 1s - loss: 0.0838 - acc: 0.9763 - val_loss: 0.1508 - val_acc: 0.9564\n",
      "Epoch 41/50\n",
      " - 1s - loss: 0.0830 - acc: 0.9757 - val_loss: 0.1517 - val_acc: 0.9554\n",
      "Epoch 42/50\n",
      " - 1s - loss: 0.0798 - acc: 0.9772 - val_loss: 0.1474 - val_acc: 0.9574\n",
      "Epoch 43/50\n",
      " - 1s - loss: 0.0782 - acc: 0.9775 - val_loss: 0.1475 - val_acc: 0.9578\n",
      "Epoch 44/50\n",
      " - 1s - loss: 0.0787 - acc: 0.9771 - val_loss: 0.1478 - val_acc: 0.9573\n",
      "Epoch 45/50\n",
      " - 1s - loss: 0.0753 - acc: 0.9783 - val_loss: 0.1474 - val_acc: 0.9573\n",
      "Epoch 46/50\n",
      " - 1s - loss: 0.0734 - acc: 0.9796 - val_loss: 0.1476 - val_acc: 0.9576\n",
      "Epoch 47/50\n",
      " - 1s - loss: 0.0739 - acc: 0.9787 - val_loss: 0.1467 - val_acc: 0.9593\n",
      "Epoch 48/50\n",
      " - 1s - loss: 0.0713 - acc: 0.9794 - val_loss: 0.1446 - val_acc: 0.9587\n",
      "Epoch 49/50\n",
      " - 1s - loss: 0.0689 - acc: 0.9807 - val_loss: 0.1458 - val_acc: 0.9588\n",
      "Epoch 50/50\n",
      " - 1s - loss: 0.0680 - acc: 0.9806 - val_loss: 0.1459 - val_acc: 0.9591\n"
     ]
    },
    {
     "data": {
      "text/plain": [
       "<keras.callbacks.History at 0x238680ca7b8>"
      ]
     },
     "execution_count": 4,
     "metadata": {},
     "output_type": "execute_result"
    }
   ],
   "source": [
    "#-------------------------------------------------------------------------\n",
    "# 建立神经网络\n",
    "model = Sequential([\n",
    "    Dense(30, input_dim=784),\n",
    "    Activation('relu'),\n",
    "    Dense(10),\n",
    "    Activation('softmax'),\n",
    "])\n",
    "#--------------------------------------------------------------------------\n",
    "# 优化函数\n",
    "Adam = keras.optimizers.Adam(lr=0.001, beta_1=0.9, beta_2=0.999, epsilon=1e-08)\n",
    "#--------------------------------------------------------------------------\n",
    "# 编译\n",
    "model.compile(optimizer=Adam,\n",
    "              loss='categorical_crossentropy',\n",
    "              metrics=['accuracy'])\n",
    "#--------------------------------------------------------------------------\n",
    "#创建一个实例history\n",
    "history = LossHistory()\n",
    "\n",
    "#--------------------------------------------------------------------------\n",
    "# 训练\n",
    "print('Training ------------')\n",
    "model.fit(X_train, y_train,\n",
    "          validation_split=0.3,epochs=50,verbose=2,\n",
    "          batch_size=512,\n",
    "          callbacks=[history])\n",
    "#,keras.callbacks.EarlyStopping(monitor='val_loss', patience=5, verbose=2, mode='auto')"
   ]
  },
  {
   "cell_type": "code",
   "execution_count": 5,
   "metadata": {
    "collapsed": false
   },
   "outputs": [
    {
     "name": "stdout",
     "output_type": "stream",
     "text": [
      "\n",
      "Testing ------------\n",
      "10000/10000 [==============================] - 1s 56us/step\b\b\b\b\b\b\b\b\b\b\b\b\b\b\b\b\b\b\b\b\b\b\b\b\b\b\b\b\b\b\b\b\b\b\b\b\b\b\b\b\b\b\b\b\b\b\b\b\b\b\b\b\b\b\b\b\b\b\b\b\b\b\b\b\b\b\b\b\b\b\b\b\b\b\b\b\b\b\b\b\b\b\b\b\b\b\b\b\b\b\b\b\b\b\b\b\b\b\b\b\b\b\b\b\b\b\b\b\b\b\b\b\b\b\b\b\b\b\b\b\b\b\b\b\b\b\b\b\b\b\b\b\b\b\b\b\b\b\b\b\b\b\b\b\b\b\b\b\b\b\b\b\b\b\b\b\b\b\b\b\b\b\b\b\b\b\b\b\b\b\b\b\b\b\b\b\b\b\b\b\b\b\b\b\b\b\b\b\b\b\b\b\b\b\b\b\b\b\b\b\b\b\b\b\b\b\b\b\b\b\b\b\b\b\b\b\b\b\b\b\b\b\b\b\b\b\b\b\b\b\b\b\b\b\b\b\b\b\b\b\b\b\b\b\b\b\b\b\b\b\b\b\b\b\b\b\b\b\b\b\b\b\b\b\b\b\b\b\b\b\b\b\b\b\b\b\b\b\b\b\b\b\b\b\b\b\b\b\b\b\b\b\b\b\b\b\b\b\b\b\b\b\b\b\b\b\b\b\b\b\b\b\b\b\b\b\b\b\b\b\b\b\b\b\b\b\b\b\b\b\b\b\b\b\b\b\b\b\b\b\b\b\b\b\b\b\b\b\b\b\b\b\b\b\b\b\b\b\b\b\b\b\b\b\b\b\b\b\b\b\b\b\b\b\b\b\b\b\b\b\b\b\b\b\b\b\b\b\b\b\b\b\b\b\b\b\b\b\b\b\b\b\b\b\b\b\b\b\b\b\b\b\b\b\b\b\b\b\b\b\b\b\b\b\b\b\b\b\b\b\b\b\b\b\b\b\b\b\b\b\b\b\b\b\b\b\b\b\b\b\b\b\b\b\b\b\b\b\b\b\b\b\b\b\b\b\b\b\b\b\b\b\b\b\b\b\b\b\b\b\b\b\b\b\b\b\b\b\b\b\b\b\b\b\b\b\b\b\b\b\b\b\b\b\b\b\b\b\b\b\b\b\b\b\b\b\b\b\b\b\b\b\b\b\b\b\b\b\b\b\b\b\b\b\b\b\b\b\b\b\b\b\b\b\b\b\b\b\b\b\b\b\b\b\b\b\b\b\b\b\b\b\b\b\b\b\b\b\b\b\b\b\b\b\b\b\b\b\b\b\b\b\b\b\b\b\b\b\b\b\b\b\b\b\b\b\b\b\b\b\b\b\b\b\b\b\b\b\b\b\b\b\b\b\b\b\b\b\b\b\b\b\b\b\b\b\b\b\b\b\b\b\b\b\b\b\b\b\b\b\b\b\b\n",
      "test loss:  0.129770015723\n",
      "test accuracy:  0.9612\n"
     ]
    },
    {
     "data": {
      "image/png": "[encoded data removed]",
      "text/plain": [
       "<matplotlib.figure.Figure at 0x23867eacc88>"
      ]
     },
     "metadata": {},
     "output_type": "display_data"
    }
   ],
   "source": [
    "#--------------------------------------------------------------------------\n",
    "#测试评价\n",
    "print('\\nTesting ------------')\n",
    "loss, accuracy = model.evaluate(X_test, y_test)\n",
    "#---------------------------------------------------------------------------\n",
    "print('test loss: ', loss)\n",
    "print('test accuracy: ', accuracy)\n",
    "#---------------------------------------------------------------------------\n",
    "#绘制acc-loss曲线\n",
    "history.loss_plot('epoch')"
   ]
  },
  {
   "cell_type": "code",
   "execution_count": null,
   "metadata": {
    "collapsed": true
   },
   "outputs": [],
   "source": []
  }
 ],
 "metadata": {
  "kernelspec": {
   "display_name": "Python 3",
   "language": "python",
   "name": "python3"
  },
  "language_info": {
   "codemirror_mode": {
    "name": "ipython",
    "version": 3
   },
   "file_extension": ".py",
   "mimetype": "text/x-python",
   "name": "python",
   "nbconvert_exporter": "python",
   "pygments_lexer": "ipython3",
   "version": "3.6.0"
  }
 },
 "nbformat": 4,
 "nbformat_minor": 2
}
